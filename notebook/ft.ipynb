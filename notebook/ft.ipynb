{
 "cells": [
  {
   "cell_type": "code",
   "execution_count": 1,
   "id": "4ce08dbe",
   "metadata": {},
   "outputs": [],
   "source": [
    "import numpy as np,pandas as pd,seaborn as sns"
   ]
  },
  {
   "cell_type": "code",
   "execution_count": 2,
   "id": "57915968",
   "metadata": {},
   "outputs": [],
   "source": [
    "import plotly.express as px,warnings\n",
    "warnings.filterwarnings('ignore')"
   ]
  },
  {
   "cell_type": "code",
   "execution_count": 4,
   "id": "57d4011b",
   "metadata": {},
   "outputs": [],
   "source": [
    "df=pd.read_csv('EasyVisa.csv')"
   ]
  },
  {
   "cell_type": "code",
   "execution_count": 7,
   "id": "542bec5f",
   "metadata": {},
   "outputs": [],
   "source": [
    "features_with_na=[i for i in df.columns if df[i].isnull().sum()>=1]\n",
    "for i in features_with_na:\n",
    "    print(i,np.round(df[i].isnull().mean()*100,5),' %')"
   ]
  },
  {
   "cell_type": "code",
   "execution_count": 8,
   "id": "5af72440",
   "metadata": {},
   "outputs": [
    {
     "data": {
      "text/plain": [
       "[]"
      ]
     },
     "execution_count": 8,
     "metadata": {},
     "output_type": "execute_result"
    }
   ],
   "source": [
    "features_with_na"
   ]
  },
  {
   "cell_type": "code",
   "execution_count": 9,
   "id": "fe2d7e5a",
   "metadata": {},
   "outputs": [],
   "source": [
    "df.drop('case_id',axis=1,inplace=True)"
   ]
  },
  {
   "cell_type": "code",
   "execution_count": 10,
   "id": "35e3283a",
   "metadata": {},
   "outputs": [
    {
     "name": "stdout",
     "output_type": "stream",
     "text": [
      "we have 3 numerical : ['no_of_employees', 'yr_of_estab', 'prevailing_wage']\n",
      "we have 8 categorical : ['continent', 'education_of_employee', 'has_job_experience', 'requires_job_training', 'region_of_employment', 'unit_of_wage', 'full_time_position', 'case_status']\n"
     ]
    }
   ],
   "source": [
    "num_features=[i for i in df.columns if df[i].dtype!='O']\n",
    "cat_features=[j for j in df.columns if df[j].dtype=='O']\n",
    "print('we have {} numerical : {}'.format(len(num_features),num_features))\n",
    "print('we have {} categorical : {}'.format(len(cat_features),cat_features))"
   ]
  },
  {
   "cell_type": "code",
   "execution_count": 11,
   "id": "912d1596",
   "metadata": {},
   "outputs": [],
   "source": [
    "x=df.drop('case_status',axis=1)\n",
    "y=df['case_status']"
   ]
  },
  {
   "cell_type": "code",
   "execution_count": 12,
   "id": "45ccd986",
   "metadata": {},
   "outputs": [],
   "source": [
    "y=np.where(y=='Denied',1,0)"
   ]
  },
  {
   "cell_type": "code",
   "execution_count": 13,
   "id": "a6d7bdc2",
   "metadata": {},
   "outputs": [
    {
     "data": {
      "text/plain": [
       "array([1, 0, 1, ..., 0, 0, 0])"
      ]
     },
     "execution_count": 13,
     "metadata": {},
     "output_type": "execute_result"
    }
   ],
   "source": [
    "y"
   ]
  },
  {
   "cell_type": "code",
   "execution_count": 16,
   "id": "3e8de842",
   "metadata": {},
   "outputs": [
    {
     "data": {
      "text/plain": [
       "full_time_position\n",
       "Y    22773\n",
       "N     2707\n",
       "Name: count, dtype: int64"
      ]
     },
     "execution_count": 16,
     "metadata": {},
     "output_type": "execute_result"
    }
   ],
   "source": [
    "df['full_time_position'].value_counts()"
   ]
  },
  {
   "cell_type": "code",
   "execution_count": 14,
   "id": "e42817c4",
   "metadata": {},
   "outputs": [],
   "source": [
    "or_columns = ['has_job_experience','requires_job_training','full_time_position','education_of_employee']\n",
    "oh_columns = ['continent','unit_of_wage','region_of_employment']\n",
    "transform_columns= ['no_of_employees','company_age']\n",
    "\n",
    "from sklearn.preprocessing import OneHotEncoder, StandardScaler,OrdinalEncoder, PowerTransformer\n",
    "from sklearn.compose import ColumnTransformer \n",
    "from sklearn.pipeline import Pipeline\n",
    "\n",
    "numeric_transformer = StandardScaler()\n",
    "oh_transformer = OneHotEncoder()\n",
    "ordinal_encoder = OrdinalEncoder()\n",
    "\n",
    "transform_pipe = Pipeline(steps=[\n",
    "    ('transformer', PowerTransformer(method='yeo-johnson'))\n",
    "])\n",
    "\n",
    "preprocessor = ColumnTransformer(\n",
    "    [\n",
    "        (\"OneHotEncoder\", oh_transformer, oh_columns),\n",
    "        (\"Ordinal_Encoder\", ordinal_encoder, or_columns),\n",
    "        (\"Transformer\", transform_pipe, transform_columns),\n",
    "        (\"StandardScaler\", numeric_transformer, num_features)\n",
    "    ]\n",
    ")"
   ]
  },
  {
   "cell_type": "code",
   "execution_count": null,
   "id": "dd95e72d",
   "metadata": {},
   "outputs": [],
   "source": []
  }
 ],
 "metadata": {
  "kernelspec": {
   "display_name": "base",
   "language": "python",
   "name": "python3"
  },
  "language_info": {
   "codemirror_mode": {
    "name": "ipython",
    "version": 3
   },
   "file_extension": ".py",
   "mimetype": "text/x-python",
   "name": "python",
   "nbconvert_exporter": "python",
   "pygments_lexer": "ipython3",
   "version": "3.12.7"
  }
 },
 "nbformat": 4,
 "nbformat_minor": 5
}
